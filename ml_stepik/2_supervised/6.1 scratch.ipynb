{
 "cells": [
  {
   "cell_type": "markdown",
   "metadata": {},
   "source": [
    "##### Это финальное задание по курсу «Обучение на размеченных данных».\n",
    "\n",
    "В нем вы сравните логистическую регрессию и случайный лес на разных наборах признаков. В качестве данных будет использован Adult Data Set из репозитория UCI. В нем нужно предсказать, получает ли человек больше 50 000$ в год, или нет, по ряду признаков, таких как пол, образование, раса и др. Подробное описание можно найти по ссылке: https://archive.ics.uci.edu/ml/datasets/Adult."
   ]
  },
  {
   "cell_type": "code",
   "execution_count": 37,
   "metadata": {},
   "outputs": [],
   "source": [
    "import warnings\n",
    "warnings.filterwarnings('ignore')\n",
    "\n",
    "import numpy as np\n",
    "import pandas as pd\n",
    "from sklearn.linear_model import LogisticRegression\n",
    "from sklearn.model_selection import StratifiedKFold\n",
    "from sklearn.model_selection import GridSearchCV\n",
    "from sklearn.preprocessing import StandardScaler\n",
    "from sklearn.ensemble import RandomForestClassifier\n",
    "from sklearn import metrics\n",
    "from sklearn.preprocessing import LabelEncoder\n",
    "from sklearn.feature_extraction import DictVectorizer\n",
    "import matplotlib.pyplot as plt"
   ]
  },
  {
   "cell_type": "markdown",
   "metadata": {},
   "source": [
    "### Загрузка данных"
   ]
  },
  {
   "cell_type": "markdown",
   "metadata": {},
   "source": [
    "В ходе задания будем использовать __train_data.csv__ для обучения моделей, на нем же и будем производить кросс-валидацию. В качестве отложенной выборки будем использовать __test_data.csv__"
   ]
  },
  {
   "cell_type": "code",
   "execution_count": 38,
   "metadata": {},
   "outputs": [],
   "source": [
    "column_names = [\"age\", \"workclass\", \"fnlwgt\", \"education\", \"education-num\", \"marital-status\",\n",
    "                \"occupation\", \"relationship\", \"race\", \"sex\", \"capital-gain\", \"capital-loss\",\n",
    "                \"hours-per-week\", \"native-country\", \"class\"]"
   ]
  },
  {
   "cell_type": "code",
   "execution_count": 39,
   "metadata": {},
   "outputs": [],
   "source": [
    "train = pd.read_csv(\"train_data.csv\", sep=\", \", header=None, engine=\"python\", names=column_names)"
   ]
  },
  {
   "cell_type": "code",
   "execution_count": 40,
   "metadata": {},
   "outputs": [],
   "source": [
    "test = pd.read_csv(\"test_data.csv\", sep=\", \", header=None, engine=\"python\", names=column_names)"
   ]
  },
  {
   "cell_type": "markdown",
   "metadata": {},
   "source": [
    "### 1. Пропущенные значения "
   ]
  },
  {
   "cell_type": "markdown",
   "metadata": {},
   "source": [
    "В обучающей выборке порядка 7% строк имеют пропущенные значения (вместо значения поля указан вопросительный знак __'?'__). В каких признаках в обучающей и тестовой выборке имеются пропущенные значения? Так как они все пропущены в категориальных признаках, то можно пока их ни на что не заменять, а просто считать еще одной категорией."
   ]
  },
  {
   "cell_type": "code",
   "execution_count": 41,
   "metadata": {},
   "outputs": [
    {
     "name": "stdout",
     "output_type": "stream",
     "text": [
      "['workclass', 'occupation', 'native-country']\n",
      "['workclass', 'occupation', 'native-country']\n"
     ]
    }
   ],
   "source": [
    "print([c for c in column_names if '?' in train[c].values])\n",
    "print([c for c in column_names if '?' in test[c].values])"
   ]
  },
  {
   "cell_type": "markdown",
   "metadata": {},
   "source": [
    "### 2. Обучение на вещественных признаках"
   ]
  },
  {
   "cell_type": "markdown",
   "metadata": {},
   "source": [
    "В этом разделе обучите модели только на вещественных признаках (\"continuous\" в описании данных). Обучите логистическую регрессию (linear_model.LogisticRegression) и случайный лес (ensemble.RandomForestClassifier) из sklearn. В первом случае подберите оптимальные параметры $penalty$ и $C$ на отрезке $[10^{-6}, 10^{6}]$ (по степеням $10$ с шагом $1$, начиная с $-6$), а во втором при фиксированном числе деревьев в 50 подберите $max\\_depth$ и $min\\_samples\\_split$ из отрезка $[2, 14]$ с шагом в 2 и множества $\\{1, 2, 4, 8\\}$ соответственно. За целевую метрику качества возьмите AUC-ROC. В качестве схемы валидации используйте стратифицированную кросс-валидацию по 5-ти фолдам. Какие параметры оказались оптимальными?\n",
    "\n",
    "Учтите, что целевая переменная в датасете является строкой. Поэтому для начала ее нужно перевести в бинарную величину. Также не забудьте отмасштабировать данные с помощью StandartScaler'а из модуля preprocessing."
   ]
  },
  {
   "cell_type": "code",
   "execution_count": 42,
   "metadata": {},
   "outputs": [],
   "source": [
    "cont_column_names = ['age', 'fnlwgt', 'education-num', 'capital-gain', 'capital-loss', 'hours-per-week']\n",
    "cat_column_names = set(column_names) - set(cont_column_names) - {'class'}\n",
    "scaler = StandardScaler()\n",
    "\n",
    "def process(data):\n",
    "    x_cont = scaler.fit_transform(data[cont_column_names])\n",
    "    x_cat = data[cat_column_names]\n",
    "    y = data['class']\n",
    "    y[y == '<=50K'] = 0\n",
    "    y[y == '>50K'] = 1\n",
    "    y = pd.to_numeric(y)\n",
    "    return (x_cont, x_cat, y)\n",
    "    \n",
    "\n",
    "x_train_cont, x_train_cat, y_train = process(train)\n",
    "x_test_cont, x_test_cat, y_test = process(test)"
   ]
  },
  {
   "cell_type": "code",
   "execution_count": 43,
   "metadata": {},
   "outputs": [],
   "source": [
    "lr = LogisticRegression()\n",
    "params = {\n",
    "    'C' : [10 ** p for p in range(-6, 7)],\n",
    "    'penalty' : ['l1', 'l2']\n",
    "}\n",
    "cv = StratifiedKFold(n_splits=5)\n",
    "grid_lr = GridSearchCV(lr, params, scoring = 'roc_auc', cv = cv)"
   ]
  },
  {
   "cell_type": "code",
   "execution_count": 44,
   "metadata": {},
   "outputs": [
    {
     "name": "stdout",
     "output_type": "stream",
     "text": [
      "0.8316014389179222\n",
      "{'C': 0.1, 'penalty': 'l2'}\n",
      "CPU times: user 13.5 s, sys: 503 ms, total: 14 s\n",
      "Wall time: 7.8 s\n"
     ]
    }
   ],
   "source": [
    "%%time\n",
    "grid_lr.fit(x_train_cont, y_train)\n",
    "print(grid_lr.best_score_)\n",
    "print(grid_lr.best_params_)"
   ]
  },
  {
   "cell_type": "code",
   "execution_count": 73,
   "metadata": {},
   "outputs": [],
   "source": [
    "rfc = RandomForestClassifier(n_estimators=50)\n",
    "params = {\n",
    "    'max_depth' : np.arange(2, 16, 2),\n",
    "    'min_samples_split' : [2, 4, 8]\n",
    "}\n",
    "grid_rfc = GridSearchCV(rfc, params, scoring = 'roc_auc', cv = cv)"
   ]
  },
  {
   "cell_type": "code",
   "execution_count": 74,
   "metadata": {},
   "outputs": [
    {
     "name": "stdout",
     "output_type": "stream",
     "text": [
      "0.8630528812881437\n",
      "{'max_depth': 12, 'min_samples_split': 8}\n",
      "CPU times: user 1min 45s, sys: 1.36 s, total: 1min 46s\n",
      "Wall time: 1min 50s\n"
     ]
    }
   ],
   "source": [
    "%%time\n",
    "grid_rfc.fit(x_train_cont, y_train)\n",
    "print(grid_rfc.best_score_)\n",
    "print(grid_rfc.best_params_)"
   ]
  },
  {
   "cell_type": "markdown",
   "metadata": {},
   "source": [
    "Посчитайте accuracy, precision, recall, f1-score и AUC-ROC на отложенной выборке для оптимальных алгоритмов. Какие они получились? Какой алгоритм лучше?"
   ]
  },
  {
   "cell_type": "code",
   "execution_count": 58,
   "metadata": {},
   "outputs": [],
   "source": [
    "def calc_metrics(estimator, x, y):\n",
    "    y_pred = estimator.predict(x)\n",
    "    y_pred_proba = estimator.predict_proba(x)[:, 1]\n",
    "    res = {}\n",
    "    res['accuracy'] = metrics.accuracy_score(y, y_pred)\n",
    "    res['precision'] = metrics.precision_score(y, y_pred)\n",
    "    res['recall'] = metrics.recall_score(y, y_pred)\n",
    "    res['f1'] = metrics.f1_score(y, y_pred)\n",
    "    res['roc auc'] = metrics.roc_auc_score(y, y_pred_proba)\n",
    "    return res"
   ]
  },
  {
   "cell_type": "code",
   "execution_count": 48,
   "metadata": {},
   "outputs": [],
   "source": [
    "df_lr_results = pd.DataFrame(index=['accuracy', 'precision', 'recall', 'f1', 'roc auc'],\n",
    "                 columns=pd.Index(['continuous', 'label encoding', 'binary encoding'], \n",
    "                 name='Logistic regression'))\n",
    "df_rf_results = pd.DataFrame(index=['accuracy', 'precision', 'recall', 'f1', 'roc auc'],\n",
    "                 columns=pd.Index(['continuous', 'label encoding', 'binary encoding'], \n",
    "                 name='Random forest classifier'))"
   ]
  },
  {
   "cell_type": "code",
   "execution_count": 49,
   "metadata": {},
   "outputs": [],
   "source": [
    "def update_res_table(df, res, col):\n",
    "    for key in res.keys():\n",
    "        df[col][key] = res[key]"
   ]
  },
  {
   "cell_type": "code",
   "execution_count": 59,
   "metadata": {},
   "outputs": [
    {
     "name": "stdout",
     "output_type": "stream",
     "text": [
      "{'accuracy': 0.8127879122903998, 'precision': 0.686623012160898, 'recall': 0.38169526781071245, 'f1': 0.4906417112299466, 'roc auc': 0.825422315646144}\n"
     ]
    }
   ],
   "source": [
    "res = calc_metrics(grid_lr.best_estimator_, x_test_cont, y_test)\n",
    "print(res)\n",
    "update_res_table(df_lr_results, res, 'continuous')"
   ]
  },
  {
   "cell_type": "code",
   "execution_count": 60,
   "metadata": {},
   "outputs": [
    {
     "name": "stdout",
     "output_type": "stream",
     "text": [
      "{'accuracy': 0.8324427246483631, 'precision': 0.7578413284132841, 'recall': 0.42719708788351535, 'f1': 0.5463917525773196, 'roc auc': 0.8533761832982367}\n"
     ]
    }
   ],
   "source": [
    "res = calc_metrics(grid_rfc.best_estimator_, x_test_cont, y_test)\n",
    "print(res)\n",
    "update_res_table(df_rf_results, res, 'continuous')"
   ]
  },
  {
   "cell_type": "markdown",
   "metadata": {},
   "source": [
    "Вывод: случайный лес дает лучшее качество, чем логистическая регрессия"
   ]
  },
  {
   "cell_type": "markdown",
   "metadata": {},
   "source": [
    "### 3. Категориальные признаки как есть"
   ]
  },
  {
   "cell_type": "markdown",
   "metadata": {},
   "source": [
    "Теперь к вещественным добавьте категориальные признаки, заменив их на числа с помощью LabelEncoder из модуля preprocessing. Переподберите параметры для логистической регрессии и случайного леса аналогично прошлому пункту. Как изменилось качество моделей на тестовой выборке? Как вы можете это объяснить?"
   ]
  },
  {
   "cell_type": "code",
   "execution_count": 79,
   "metadata": {},
   "outputs": [],
   "source": [
    "le = LabelEncoder()\n",
    "x_train_cat_labeled = x_train_cat.apply(le.fit_transform)\n",
    "x_test_cat_labeled = x_test_cat.apply(le.fit_transform)\n",
    "x_train = np.hstack((x_train_cont, x_train_cat_labeled))\n",
    "x_test = np.hstack((x_test_cont, x_test_cat_labeled))"
   ]
  },
  {
   "cell_type": "code",
   "execution_count": 62,
   "metadata": {},
   "outputs": [
    {
     "name": "stdout",
     "output_type": "stream",
     "text": [
      "0.8538901413953228\n",
      "{'C': 1000000, 'penalty': 'l1'}\n",
      "CPU times: user 58.3 s, sys: 1.46 s, total: 59.8 s\n",
      "Wall time: 41.2 s\n"
     ]
    }
   ],
   "source": [
    "%%time\n",
    "grid_lr.fit(x_train, y_train)\n",
    "print(grid_lr.best_score_)\n",
    "print(grid_lr.best_params_)"
   ]
  },
  {
   "cell_type": "code",
   "execution_count": 63,
   "metadata": {},
   "outputs": [
    {
     "name": "stdout",
     "output_type": "stream",
     "text": [
      "{'accuracy': 0.824887906148271, 'precision': 0.7041444398851047, 'recall': 0.44617784711388453, 'f1': 0.546235874582206, 'roc auc': 0.8508763615522505}\n"
     ]
    }
   ],
   "source": [
    "res = calc_metrics(grid_lr.best_estimator_, x_test, y_test)\n",
    "print(res)\n",
    "update_res_table(df_lr_results, res, 'label encoding')"
   ]
  },
  {
   "cell_type": "code",
   "execution_count": 64,
   "metadata": {},
   "outputs": [
    {
     "name": "stdout",
     "output_type": "stream",
     "text": [
      "0.914312324546408\n",
      "{'max_depth': 12, 'min_samples_split': 4}\n",
      "CPU times: user 22.7 s, sys: 468 ms, total: 23.1 s\n",
      "Wall time: 23.5 s\n"
     ]
    }
   ],
   "source": [
    "%%time\n",
    "grid_rfc.fit(x_train, y_train)\n",
    "print(grid_rfc.best_score_)\n",
    "print(grid_rfc.best_params_)"
   ]
  },
  {
   "cell_type": "code",
   "execution_count": 65,
   "metadata": {},
   "outputs": [
    {
     "name": "stdout",
     "output_type": "stream",
     "text": [
      "{'accuracy': 0.8584853510226644, 'precision': 0.774768353528154, 'recall': 0.5652626105044202, 'f1': 0.6536380036079374, 'roc auc': 0.9098826116293546}\n"
     ]
    }
   ],
   "source": [
    "res = calc_metrics(grid_rfc.best_estimator_, x_test, y_test)\n",
    "print(res)\n",
    "update_res_table(df_rf_results, res, 'label encoding')"
   ]
  },
  {
   "cell_type": "markdown",
   "metadata": {},
   "source": [
    "Вывод: качество моделей на тестовой выборке повысилось. Добавление категориальных признаков повысило степень обученности моделей."
   ]
  },
  {
   "cell_type": "markdown",
   "metadata": {},
   "source": [
    "### 4. Бинарное кодирование категориальных признаков"
   ]
  },
  {
   "cell_type": "markdown",
   "metadata": {},
   "source": [
    "А теперь замените категориальные признаки из прошлого пункта на бинарно закодированные. Опять переподберите параметры для моделей и проверьте качество на тестовой выборке. Как изменилось качество относительно предыдущего пункта? Как вы можете это объяснить?"
   ]
  },
  {
   "cell_type": "code",
   "execution_count": 66,
   "metadata": {},
   "outputs": [],
   "source": [
    "encoder = DictVectorizer(sparse = False)\n",
    "x_train_cat_oh = encoder.fit_transform(x_train_cat.T.to_dict().values())\n",
    "x_test_cat_oh = encoder.transform(x_test_cat.T.to_dict().values())\n",
    "x_train = np.hstack((x_train_cont, x_train_cat_oh))\n",
    "x_test = np.hstack((x_test_cont, x_test_cat_oh))"
   ]
  },
  {
   "cell_type": "code",
   "execution_count": 68,
   "metadata": {},
   "outputs": [
    {
     "name": "stdout",
     "output_type": "stream",
     "text": [
      "0.9068720085126994\n",
      "{'C': 1, 'penalty': 'l2'}\n",
      "CPU times: user 2min 41s, sys: 3.36 s, total: 2min 45s\n",
      "Wall time: 2min 39s\n"
     ]
    }
   ],
   "source": [
    "%%time\n",
    "grid_lr.fit(x_train, y_train)\n",
    "print(grid_lr.best_score_)\n",
    "print(grid_lr.best_params_)"
   ]
  },
  {
   "cell_type": "code",
   "execution_count": 69,
   "metadata": {},
   "outputs": [
    {
     "name": "stdout",
     "output_type": "stream",
     "text": [
      "{'accuracy': 0.8530188563356059, 'precision': 0.7299778410889523, 'recall': 0.5995839833593344, 'f1': 0.6583868665239115, 'roc auc': 0.9054422257308468}\n"
     ]
    }
   ],
   "source": [
    "res = calc_metrics(grid_lr.best_estimator_, x_test, y_test)\n",
    "print(res)\n",
    "update_res_table(df_lr_results, res, 'binary encoding')"
   ]
  },
  {
   "cell_type": "code",
   "execution_count": 70,
   "metadata": {},
   "outputs": [
    {
     "name": "stdout",
     "output_type": "stream",
     "text": [
      "0.9105070105868811\n",
      "{'max_depth': 14, 'min_samples_split': 4}\n",
      "CPU times: user 35.7 s, sys: 1.07 s, total: 36.7 s\n",
      "Wall time: 37.6 s\n"
     ]
    }
   ],
   "source": [
    "%%time\n",
    "grid_rfc.fit(x_train, y_train)\n",
    "print(grid_rfc.best_score_)\n",
    "print(grid_rfc.best_params_)"
   ]
  },
  {
   "cell_type": "code",
   "execution_count": 71,
   "metadata": {},
   "outputs": [
    {
     "name": "stdout",
     "output_type": "stream",
     "text": [
      "{'accuracy': 0.8581168232909526, 'precision': 0.7694736842105263, 'recall': 0.5702028081123245, 'f1': 0.6550179211469535, 'roc auc': 0.9081965900268498}\n"
     ]
    }
   ],
   "source": [
    "res = calc_metrics(grid_rfc.best_estimator_, x_test, y_test)\n",
    "print(res)\n",
    "update_res_table(df_rf_results, res, 'binary encoding')"
   ]
  },
  {
   "cell_type": "code",
   "execution_count": 72,
   "metadata": {},
   "outputs": [
    {
     "data": {
      "image/png": "[encoded data removed]",
      "text/plain": [
       "<Figure size 1440x576 with 2 Axes>"
      ]
     },
     "metadata": {
      "needs_background": "light"
     },
     "output_type": "display_data"
    }
   ],
   "source": [
    "fig, axes = plt.subplots(nrows=1, ncols=2)\n",
    "df_lr_results.plot(ax=axes[0], kind='bar', figsize=(20, 8), title='Logistic regression')\n",
    "df_rf_results.plot(ax=axes[1], kind='bar', figsize=(20, 8), title='Random forest classifier')\n",
    "for ax in axes:\n",
    "    ax.legend(loc='lower right')\n",
    "    ax.grid()\n",
    "    ax.set_yticks(np.arange(0,1,0.05))\n",
    "plt.show()"
   ]
  },
  {
   "cell_type": "markdown",
   "metadata": {},
   "source": [
    "Вывод: по сравнению с предыдущим пунктом качество повысилось значительнее для логистической регрессии. Возможно, это связано с тем, что логистическая регрессия обрабатывает признаки, закодированные с помощью LabelEncoder как упорядоченные, а бинарно закодированные - как неупорядоченные. Отсюда и более заметный (в сравнении со случайным лесом) прирост по качеству при бинарном кодировании. Случайный лес же вне зависимости от кодирования (label или binary) обрабатывает категориальные признаки как неупорядоченные. Поэтому и ощутимой разницы в качестве при смене способа кодирования для него нет."
   ]
  }
 ],
 "metadata": {
  "anaconda-cloud": {},
  "kernelspec": {
   "display_name": "Python 3",
   "language": "python",
   "name": "python3"
  },
  "language_info": {
   "codemirror_mode": {
    "name": "ipython",
    "version": 3
   },
   "file_extension": ".py",
   "mimetype": "text/x-python",
   "name": "python",
   "nbconvert_exporter": "python",
   "pygments_lexer": "ipython3",
   "version": "3.7.4"
  }
 },
 "nbformat": 4,
 "nbformat_minor": 1
}
